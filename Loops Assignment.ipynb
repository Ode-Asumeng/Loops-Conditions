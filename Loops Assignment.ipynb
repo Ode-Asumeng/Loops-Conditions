{
 "cells": [
  {
   "cell_type": "code",
   "execution_count": 1,
   "id": "18db0454",
   "metadata": {},
   "outputs": [
    {
     "name": "stdout",
     "output_type": "stream",
     "text": [
      "[[('Janet', 22)], ['Grace', 40], ['Wes', 50]]\n"
     ]
    }
   ],
   "source": [
    "class_1 = [[('Janet',22)],['Grace',40],['Wes',50]]\n",
    "print(class_1)"
   ]
  },
  {
   "cell_type": "code",
   "execution_count": 2,
   "id": "0069157a",
   "metadata": {},
   "outputs": [
    {
     "name": "stdout",
     "output_type": "stream",
     "text": [
      "You are in this class and got this grade [('Janet', 22)]\n",
      "You are in this class and got this grade ['Grace', 40]\n",
      "You are in this class and got this grade ['Wes', 50]\n",
      "You're not in this list\n"
     ]
    }
   ],
   "source": [
    "for student in class_1 :\n",
    "    print('You are in this class and got this grade',student)\n",
    "else:\n",
    "    print('You\\'re not in this list')"
   ]
  },
  {
   "cell_type": "code",
   "execution_count": 3,
   "id": "a3a38e18",
   "metadata": {},
   "outputs": [
    {
     "data": {
      "text/plain": [
       "[[('Janet', 22)], ['Grace', 40], ['Wes', 50]]"
      ]
     },
     "execution_count": 3,
     "metadata": {},
     "output_type": "execute_result"
    }
   ],
   "source": [
    "class_1"
   ]
  },
  {
   "cell_type": "code",
   "execution_count": 4,
   "id": "d2495ecd",
   "metadata": {},
   "outputs": [
    {
     "data": {
      "text/plain": [
       "'Janet'"
      ]
     },
     "execution_count": 4,
     "metadata": {},
     "output_type": "execute_result"
    }
   ],
   "source": [
    "class_1[0][0][0]"
   ]
  },
  {
   "cell_type": "code",
   "execution_count": 5,
   "id": "6e0df000",
   "metadata": {},
   "outputs": [
    {
     "name": "stdout",
     "output_type": "stream",
     "text": [
      "0\n",
      "1\n",
      "2\n"
     ]
    }
   ],
   "source": [
    "for items in class_1:\n",
    "    t = class_1.index(items)\n",
    "    print(t)"
   ]
  },
  {
   "cell_type": "code",
   "execution_count": null,
   "id": "8e330c46",
   "metadata": {},
   "outputs": [],
   "source": []
  }
 ],
 "metadata": {
  "kernelspec": {
   "display_name": "Python 3",
   "language": "python",
   "name": "python3"
  },
  "language_info": {
   "codemirror_mode": {
    "name": "ipython",
    "version": 3
   },
   "file_extension": ".py",
   "mimetype": "text/x-python",
   "name": "python",
   "nbconvert_exporter": "python",
   "pygments_lexer": "ipython3",
   "version": "3.8.8"
  }
 },
 "nbformat": 4,
 "nbformat_minor": 5
}
