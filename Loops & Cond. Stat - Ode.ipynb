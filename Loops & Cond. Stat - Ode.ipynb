{
 "cells": [
  {
   "cell_type": "markdown",
   "id": "20f39cc4",
   "metadata": {},
   "source": [
    "# Conditional Statements"
   ]
  },
  {
   "cell_type": "code",
   "execution_count": 2,
   "id": "fb457078",
   "metadata": {},
   "outputs": [],
   "source": [
    "#python assumes any non-zero and non-null values as TRUE, and any zero or null values as FALSE e.g. 1 = True 0 = False\n",
    "# Syntax is if expression:\n",
    "                #statements"
   ]
  },
  {
   "cell_type": "code",
   "execution_count": 6,
   "id": "085dd914",
   "metadata": {},
   "outputs": [
    {
     "name": "stdout",
     "output_type": "stream",
     "text": [
      "Goodbye\n"
     ]
    }
   ],
   "source": [
    "var1 = 100\n",
    "if var1 > 1000 :\n",
    "    print('Number')\n",
    "    print(var1)\n",
    "print('Goodbye')    "
   ]
  },
  {
   "cell_type": "code",
   "execution_count": 12,
   "id": "5c3015eb",
   "metadata": {},
   "outputs": [],
   "source": [
    "var2 = 0\n",
    "if var2 :\n",
    "    print('Number:')\n",
    "    print(var2)"
   ]
  },
  {
   "cell_type": "code",
   "execution_count": 15,
   "id": "aa2f3691",
   "metadata": {},
   "outputs": [
    {
     "name": "stdout",
     "output_type": "stream",
     "text": [
      "Better luck next time\n"
     ]
    }
   ],
   "source": [
    "var1 = 100\n",
    "if var1 > 1000 :\n",
    "    print('Congrats dear')\n",
    "else :\n",
    "    print('Better luck next time')"
   ]
  },
  {
   "cell_type": "code",
   "execution_count": 16,
   "id": "c9454c04",
   "metadata": {},
   "outputs": [
    {
     "name": "stdout",
     "output_type": "stream",
     "text": [
      "Enter your number1001\n",
      "Congrats dear\n"
     ]
    }
   ],
   "source": [
    "var = int(input('Enter your number'))\n",
    "if var > 1000 :\n",
    "    print('Congrats dear')\n",
    "else: \n",
    "    print('Better luck next time')"
   ]
  },
  {
   "cell_type": "code",
   "execution_count": 22,
   "id": "a542dc8c",
   "metadata": {},
   "outputs": [
    {
     "name": "stdout",
     "output_type": "stream",
     "text": [
      "Enter amount: 500\n",
      "Discount: 50.0\n",
      "Net Payable: 450.0\n"
     ]
    }
   ],
   "source": [
    "amount = int(input('Enter amount: '))\n",
    "if amount < 1000:\n",
    "    discount = amount*0.10\n",
    "    print('Discount:',discount)\n",
    "else :\n",
    "    discount = amount*0.50\n",
    "    print('Discount:', discount)\n",
    "    \n",
    "print('Net Payable:', amount-discount)"
   ]
  },
  {
   "cell_type": "code",
   "execution_count": 18,
   "id": "61e58820",
   "metadata": {},
   "outputs": [
    {
     "name": "stdout",
     "output_type": "stream",
     "text": [
      "Enter amount1200\n",
      "Discount 600.0\n",
      "Net Payable: 600.0\n"
     ]
    }
   ],
   "source": [
    "amount = int(input('Enter amount'))\n",
    "if amount < 1000:\n",
    "    discount = amount*0.10\n",
    "    print('Discount',discount)\n",
    "else :\n",
    "    discount = amount*0.50\n",
    "    print('Discount', discount)\n",
    "    \n",
    "print('Net Payable:', amount-discount)"
   ]
  },
  {
   "cell_type": "markdown",
   "id": "acf736be",
   "metadata": {},
   "source": [
    "## ELIF statements"
   ]
  },
  {
   "cell_type": "code",
   "execution_count": 23,
   "id": "feb0e61f",
   "metadata": {},
   "outputs": [],
   "source": [
    "# if expression:\n",
    "    #statements\n",
    "# elif expression2:\n",
    "    #statements\n",
    "# else:\n",
    "    #statements"
   ]
  },
  {
   "cell_type": "code",
   "execution_count": 24,
   "id": "99db50ed",
   "metadata": {},
   "outputs": [
    {
     "name": "stdout",
     "output_type": "stream",
     "text": [
      "Enter amount2550\n",
      "Discount 637.5\n",
      "Net Payable: 1912.5\n"
     ]
    }
   ],
   "source": [
    "amount = int(input('Enter amount'))\n",
    "if amount < 1000:\n",
    "    discount = amount*0.10\n",
    "    print('Discount',discount)\n",
    "elif amount < 5000 :\n",
    "    discount = amount*0.25\n",
    "    print('Discount',discount)\n",
    "else :\n",
    "    discount = amount*0.50\n",
    "    print('Discount', discount)\n",
    "    \n",
    "print('Net Payable:', amount-discount)"
   ]
  },
  {
   "cell_type": "markdown",
   "id": "07f5075a",
   "metadata": {},
   "source": [
    "# Loops"
   ]
  },
  {
   "cell_type": "code",
   "execution_count": null,
   "id": "f255a9a3",
   "metadata": {},
   "outputs": [],
   "source": [
    "#two types : while loop and for loop\n",
    "#while syntax\n",
    "# while expression:\n",
    "    #statement"
   ]
  },
  {
   "cell_type": "markdown",
   "id": "b5437bf7",
   "metadata": {},
   "source": [
    "### While loops"
   ]
  },
  {
   "cell_type": "code",
   "execution_count": 26,
   "id": "b6adc33c",
   "metadata": {},
   "outputs": [
    {
     "name": "stdout",
     "output_type": "stream",
     "text": [
      "the count is 0\n",
      "the count is 1\n",
      "the count is 2\n",
      "the count is 3\n",
      "the count is 4\n",
      "the count is 5\n",
      "the count is 6\n",
      "the count is 7\n",
      "the count is 8\n",
      "Goodbye\n"
     ]
    }
   ],
   "source": [
    "count = 0 \n",
    "while(count<9):\n",
    "    print('the count is', count)\n",
    "    count = count + 1\n",
    "print('Goodbye')    "
   ]
  },
  {
   "cell_type": "code",
   "execution_count": 27,
   "id": "9e46fbef",
   "metadata": {},
   "outputs": [],
   "source": [
    "#while loop with else statement\n",
    "# while expression:\n",
    "    #statement\n",
    "# else: \n",
    "    #statement"
   ]
  },
  {
   "cell_type": "code",
   "execution_count": 28,
   "id": "d4d877dc",
   "metadata": {},
   "outputs": [
    {
     "name": "stdout",
     "output_type": "stream",
     "text": [
      "0 is less than 5\n",
      "1 is less than 5\n",
      "2 is less than 5\n",
      "3 is less than 5\n",
      "4 is less than 5\n",
      "5 is not less than 5\n"
     ]
    }
   ],
   "source": [
    "count = 0 \n",
    "while(count<5):\n",
    "    print(count, 'is less than 5')\n",
    "    count = count + 1\n",
    "else :\n",
    "    print(count, 'is not less than 5')"
   ]
  },
  {
   "cell_type": "markdown",
   "id": "54fcea66",
   "metadata": {},
   "source": [
    "### For loops"
   ]
  },
  {
   "cell_type": "code",
   "execution_count": 29,
   "id": "6ab7aff0",
   "metadata": {},
   "outputs": [],
   "source": [
    "#syntax\n",
    "#for iterating_var in sequence:\n",
    "    #statements"
   ]
  },
  {
   "cell_type": "code",
   "execution_count": 31,
   "id": "bdf7e519",
   "metadata": {},
   "outputs": [
    {
     "name": "stdout",
     "output_type": "stream",
     "text": [
      "Current Letter: P\n",
      "Current Letter: y\n",
      "Current Letter: t\n",
      "Current Letter: h\n",
      "Current Letter: o\n",
      "Current Letter: n\n"
     ]
    }
   ],
   "source": [
    "for letter in 'Python':\n",
    "    print('Current Letter:', letter)"
   ]
  },
  {
   "cell_type": "code",
   "execution_count": 32,
   "id": "4928f5ea",
   "metadata": {},
   "outputs": [
    {
     "name": "stdout",
     "output_type": "stream",
     "text": [
      "Current fruit: banana\n",
      "Current fruit: apple\n",
      "Current fruit: mango\n",
      "Goodbye\n"
     ]
    }
   ],
   "source": [
    "fruits = ['banana', 'apple', 'mango']\n",
    "for fruit in fruits: \n",
    "    print('Current fruit:',fruit)\n",
    "print('Goodbye')    \n"
   ]
  },
  {
   "cell_type": "code",
   "execution_count": 37,
   "id": "bab6ab07",
   "metadata": {},
   "outputs": [
    {
     "name": "stdout",
     "output_type": "stream",
     "text": [
      "8 the list contains an even number\n",
      "18 the list contains an even number\n",
      "the list does not contain an even number\n"
     ]
    }
   ],
   "source": [
    "#for loop with else statements\n",
    "numbers=[11,35,55,8,55,41,13,18]\n",
    "\n",
    "for num in numbers:\n",
    "    if num%2==0:\n",
    "        print(num, 'the list contains an even number')\n",
    "        #break\n",
    "else: \n",
    "    print('the list does not contain an even number')"
   ]
  },
  {
   "cell_type": "code",
   "execution_count": 38,
   "id": "39ef4217",
   "metadata": {},
   "outputs": [
    {
     "name": "stdout",
     "output_type": "stream",
     "text": [
      "8 the list contains an even number\n"
     ]
    }
   ],
   "source": [
    "numbers=[11,35,55,8,55,41,13,18]\n",
    "\n",
    "for num in numbers:\n",
    "    if num%2==0:\n",
    "        print(num, 'the list contains an even number')\n",
    "        break\n",
    "else: \n",
    "    print('the list does not contain an even number')"
   ]
  },
  {
   "cell_type": "code",
   "execution_count": 40,
   "id": "4390a91c",
   "metadata": {},
   "outputs": [
    {
     "name": "stdout",
     "output_type": "stream",
     "text": [
      "Current Letter : P\n",
      "Current Letter : y\n",
      "Current Letter : t\n"
     ]
    }
   ],
   "source": [
    "for letter in 'Python':\n",
    "    if letter == 'h':\n",
    "        break\n",
    "    print('Current Letter :', letter)    "
   ]
  },
  {
   "cell_type": "markdown",
   "id": "8a699fab",
   "metadata": {},
   "source": [
    "### Continue Statement"
   ]
  },
  {
   "cell_type": "code",
   "execution_count": 41,
   "id": "6fe7983b",
   "metadata": {},
   "outputs": [
    {
     "name": "stdout",
     "output_type": "stream",
     "text": [
      "Current Letter : P\n",
      "Current Letter : y\n",
      "Current Letter : t\n",
      "Current Letter : o\n",
      "Current Letter : n\n"
     ]
    }
   ],
   "source": [
    "for letter in 'Python':\n",
    "    if letter == 'h':\n",
    "        continue\n",
    "    print('Current Letter :', letter)    "
   ]
  },
  {
   "cell_type": "markdown",
   "id": "b293e5c8",
   "metadata": {},
   "source": [
    "## Defining Functions"
   ]
  },
  {
   "cell_type": "code",
   "execution_count": 44,
   "id": "d8248467",
   "metadata": {},
   "outputs": [],
   "source": [
    "def printme(str):\n",
    "    str='This prints a passed string into this function'\n",
    "    print(str)\n",
    "    return"
   ]
  },
  {
   "cell_type": "code",
   "execution_count": 45,
   "id": "52ebef17",
   "metadata": {},
   "outputs": [
    {
     "name": "stdout",
     "output_type": "stream",
     "text": [
      "This prints a passed string into this function\n"
     ]
    }
   ],
   "source": [
    "printme(str)"
   ]
  },
  {
   "cell_type": "code",
   "execution_count": null,
   "id": "7c993944",
   "metadata": {},
   "outputs": [],
   "source": []
  }
 ],
 "metadata": {
  "kernelspec": {
   "display_name": "Python 3",
   "language": "python",
   "name": "python3"
  },
  "language_info": {
   "codemirror_mode": {
    "name": "ipython",
    "version": 3
   },
   "file_extension": ".py",
   "mimetype": "text/x-python",
   "name": "python",
   "nbconvert_exporter": "python",
   "pygments_lexer": "ipython3",
   "version": "3.8.8"
  }
 },
 "nbformat": 4,
 "nbformat_minor": 5
}
